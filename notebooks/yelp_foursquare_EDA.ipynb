{
 "cells": [
  {
   "cell_type": "code",
   "execution_count": 16,
   "metadata": {},
   "outputs": [],
   "source": [
    "# imports\n",
    "import requests\n",
    "import pandas as pd\n",
    "import os\n",
    "import numpy as np"
   ]
  },
  {
   "cell_type": "markdown",
   "metadata": {},
   "source": [
    "# Foursquare"
   ]
  },
  {
   "cell_type": "markdown",
   "metadata": {},
   "source": [
    "Send a request to Foursquare with a small radius (1000m) for all the bike stations in your city of choice. "
   ]
  },
  {
   "cell_type": "code",
   "execution_count": 34,
   "metadata": {},
   "outputs": [],
   "source": [
    "FOURSQUARE_KEY = os.getenv('FOURSQUARE_KEY')"
   ]
  },
  {
   "cell_type": "code",
   "execution_count": 35,
   "metadata": {},
   "outputs": [],
   "source": [
    "bike_stations = pd.read_csv('Bike_Stations')"
   ]
  },
  {
   "cell_type": "code",
   "execution_count": 36,
   "metadata": {},
   "outputs": [],
   "source": [
    "def foursquare_restaurants(latitude,longitude):\n",
    "    lat = str(latitude)\n",
    "    long = str(longitude)\n",
    "    url= 'https://api.foursquare.com/v3/places/search'\n",
    "    radius_input = 1000\n",
    "    categories = '13065,13003'                                                          ##foursquare API functions differ by using different categories paramaters (13065/13003 for restaurants/19046 for transit)\n",
    "    api_key = FOURSQUARE_KEY\n",
    "\n",
    "    params_dict = {\n",
    "        'radius': radius_input,\n",
    "        'll': lat+','+long, \n",
    "        'categories': categories,\n",
    "        'limit': 50,\n",
    "        'fields': 'name,categories,distance'}\n",
    "    \n",
    "    header_dict = {\n",
    "        \"accept\": \"application/json\",\n",
    "        \"Authorization\": api_key}\n",
    "    res = requests.get(url, params = params_dict, headers = header_dict)\n",
    "    return res.json()"
   ]
  },
  {
   "cell_type": "code",
   "execution_count": 37,
   "metadata": {},
   "outputs": [],
   "source": [
    "def foursquare_transit(latitude,longitude):\n",
    "    lat = str(latitude)\n",
    "    long = str(longitude)\n",
    "    url= 'https://api.foursquare.com/v3/places/search'\n",
    "    radius_input = 1000\n",
    "    categories = '19046'                                                                    ##foursquare API functions differ by using different categories paramaters (13065/13003 for restaurants/19046 for transit)\n",
    "    api_key = FOURSQUARE_KEY\n",
    "\n",
    "    params_dict = {\n",
    "        'radius': radius_input,\n",
    "        'll': lat+','+long, \n",
    "        'categories': categories,\n",
    "        'limit': 50,\n",
    "        'fields': 'name,categories,distance'}\n",
    "    \n",
    "    header_dict = {\n",
    "        \"accept\": \"application/json\",\n",
    "        \"Authorization\": api_key}\n",
    "    res = requests.get(url, params = params_dict, headers = header_dict)\n",
    "    return res.json()"
   ]
  },
  {
   "cell_type": "code",
   "execution_count": 38,
   "metadata": {},
   "outputs": [],
   "source": [
    "restauarant_results=[]\n",
    "restaurant_distance = []                                                                                        \n",
    "for _, row in bike_stations.iterrows():                                                                         ##loop through bikestations, will use row lat/long for API function inputs   \n",
    "    foursquarejson = foursquare_restaurants(row['latitude'],row['longitude'])                                   ##temporarily store API function result(json)  \n",
    "    restauarant_results.append(foursquarejson['results'])                                                       ##keep only the results dictionary for future reference\n",
    "    restaurant_distance.append(np.min([result['distance'] for result in foursquarejson['results']]))            ##from sublists of temp variable, loop to find distance values for each restaurant, only keep shortest distance\n",
    "\n"
   ]
  },
  {
   "cell_type": "code",
   "execution_count": 40,
   "metadata": {},
   "outputs": [],
   "source": [
    "station_results = []\n",
    "station_distance = []                                                                                           \n",
    "for _, row in bike_stations.iterrows():                                                                     ##loop through bikestations, will use row lat/long for API function inputs\n",
    "    foursquarejson = foursquare_transit(row['latitude'],row['longitude'])                                   ##temporarily store API function result(json)\n",
    "    station_results.append(foursquarejson['results'])                                                       ##keep only the results dictionary for future reference\n",
    "    distance_lists = [result['distance'] for result in foursquarejson['results']]                           ##from sublists of temp variable, loop to find distance values for each restaurant\n",
    "    if len(distance_lists)==0:                                                                              ##if a distance list is empty, return 0 because there was no train station nearby\n",
    "        station_distance.append(0)\n",
    "    else:\n",
    "        station_distance.append(np.min(distance_lists))                                                     ## otherwise only keep shortest distance"
   ]
  },
  {
   "cell_type": "code",
   "execution_count": 41,
   "metadata": {},
   "outputs": [
    {
     "data": {
      "text/plain": [
       "164"
      ]
     },
     "execution_count": 41,
     "metadata": {},
     "output_type": "execute_result"
    }
   ],
   "source": [
    "len(station_distance)"
   ]
  },
  {
   "cell_type": "code",
   "execution_count": 42,
   "metadata": {},
   "outputs": [
    {
     "data": {
      "text/plain": [
       "164"
      ]
     },
     "execution_count": 42,
     "metadata": {},
     "output_type": "execute_result"
    }
   ],
   "source": [
    "len(bike_stations)"
   ]
  },
  {
   "cell_type": "markdown",
   "metadata": {},
   "source": [
    "Parse through the response to get the POI (such as restaurants, bars, etc) details you want (ratings, name, location, etc)"
   ]
  },
  {
   "cell_type": "code",
   "execution_count": null,
   "metadata": {},
   "outputs": [],
   "source": [
    "## refer to the function comments for parsing(end goal was to find shortest distance to the selected POI)"
   ]
  },
  {
   "cell_type": "markdown",
   "metadata": {},
   "source": [
    "Put your parsed results into a DataFrame"
   ]
  },
  {
   "cell_type": "code",
   "execution_count": 43,
   "metadata": {},
   "outputs": [],
   "source": [
    "FourSquare_Lists = {\n",
    "    'Restuarant Distance': restaurant_distance,\n",
    "    'Station Distance': station_distance}"
   ]
  },
  {
   "cell_type": "code",
   "execution_count": 44,
   "metadata": {},
   "outputs": [],
   "source": [
    "FourSquare_df = pd.DataFrame(FourSquare_Lists)"
   ]
  },
  {
   "cell_type": "code",
   "execution_count": 45,
   "metadata": {},
   "outputs": [
    {
     "data": {
      "text/html": [
       "<div>\n",
       "<style scoped>\n",
       "    .dataframe tbody tr th:only-of-type {\n",
       "        vertical-align: middle;\n",
       "    }\n",
       "\n",
       "    .dataframe tbody tr th {\n",
       "        vertical-align: top;\n",
       "    }\n",
       "\n",
       "    .dataframe thead th {\n",
       "        text-align: right;\n",
       "    }\n",
       "</style>\n",
       "<table border=\"1\" class=\"dataframe\">\n",
       "  <thead>\n",
       "    <tr style=\"text-align: right;\">\n",
       "      <th></th>\n",
       "      <th>Restuarant Distance</th>\n",
       "      <th>Station Distance</th>\n",
       "    </tr>\n",
       "  </thead>\n",
       "  <tbody>\n",
       "    <tr>\n",
       "      <th>0</th>\n",
       "      <td>80</td>\n",
       "      <td>0</td>\n",
       "    </tr>\n",
       "    <tr>\n",
       "      <th>1</th>\n",
       "      <td>80</td>\n",
       "      <td>0</td>\n",
       "    </tr>\n",
       "    <tr>\n",
       "      <th>2</th>\n",
       "      <td>238</td>\n",
       "      <td>0</td>\n",
       "    </tr>\n",
       "    <tr>\n",
       "      <th>3</th>\n",
       "      <td>239</td>\n",
       "      <td>0</td>\n",
       "    </tr>\n",
       "    <tr>\n",
       "      <th>4</th>\n",
       "      <td>44</td>\n",
       "      <td>0</td>\n",
       "    </tr>\n",
       "    <tr>\n",
       "      <th>...</th>\n",
       "      <td>...</td>\n",
       "      <td>...</td>\n",
       "    </tr>\n",
       "    <tr>\n",
       "      <th>159</th>\n",
       "      <td>121</td>\n",
       "      <td>0</td>\n",
       "    </tr>\n",
       "    <tr>\n",
       "      <th>160</th>\n",
       "      <td>196</td>\n",
       "      <td>0</td>\n",
       "    </tr>\n",
       "    <tr>\n",
       "      <th>161</th>\n",
       "      <td>116</td>\n",
       "      <td>181</td>\n",
       "    </tr>\n",
       "    <tr>\n",
       "      <th>162</th>\n",
       "      <td>233</td>\n",
       "      <td>0</td>\n",
       "    </tr>\n",
       "    <tr>\n",
       "      <th>163</th>\n",
       "      <td>114</td>\n",
       "      <td>0</td>\n",
       "    </tr>\n",
       "  </tbody>\n",
       "</table>\n",
       "<p>164 rows × 2 columns</p>\n",
       "</div>"
      ],
      "text/plain": [
       "     Restuarant Distance  Station Distance\n",
       "0                     80                 0\n",
       "1                     80                 0\n",
       "2                    238                 0\n",
       "3                    239                 0\n",
       "4                     44                 0\n",
       "..                   ...               ...\n",
       "159                  121                 0\n",
       "160                  196                 0\n",
       "161                  116               181\n",
       "162                  233                 0\n",
       "163                  114                 0\n",
       "\n",
       "[164 rows x 2 columns]"
      ]
     },
     "execution_count": 45,
     "metadata": {},
     "output_type": "execute_result"
    }
   ],
   "source": [
    "FourSquare_df"
   ]
  },
  {
   "cell_type": "code",
   "execution_count": 76,
   "metadata": {},
   "outputs": [],
   "source": [
    "FourSquare_df.to_csv('FourSquare.csv', index=False)"
   ]
  },
  {
   "cell_type": "markdown",
   "metadata": {},
   "source": [
    "# Yelp"
   ]
  },
  {
   "cell_type": "markdown",
   "metadata": {},
   "source": [
    "Send a request to Yelp with a small radius (1000m) for all the bike stations in your city of choice. "
   ]
  },
  {
   "cell_type": "code",
   "execution_count": 56,
   "metadata": {},
   "outputs": [],
   "source": [
    "YELP_KEY = os.getenv('YELP_KEY')"
   ]
  },
  {
   "cell_type": "code",
   "execution_count": 181,
   "metadata": {},
   "outputs": [],
   "source": [
    "def yelp_restaurants(latitude,longitude):                                                               ##Function is called during loop, after next markdown cell\n",
    "    url='https://api.yelp.com/v3/businesses/search'\n",
    "    radius_input = 1000\n",
    "    categories = 'restaurant,bar'\n",
    "    sort_by = 'rating'\n",
    "    api_key = 'Bearer '+YELP_KEY\n",
    "\n",
    "    params_dict = {'radius':radius_input,\n",
    "                   'categories': categories,\n",
    "                   'latitude': latitude,\n",
    "                   'longitude': longitude,\n",
    "                   'sort_by': sort_by,\n",
    "                   'limit': 0}\n",
    "    \n",
    "    header_dict = {\"Authorization\": api_key,\n",
    "                   \"accept\": \"application/json\"}\n",
    "    res = requests.get(url, params = params_dict, headers = header_dict)\n",
    "    return res.json()"
   ]
  },
  {
   "cell_type": "code",
   "execution_count": 62,
   "metadata": {},
   "outputs": [
    {
     "data": {
      "text/html": [
       "<div>\n",
       "<style scoped>\n",
       "    .dataframe tbody tr th:only-of-type {\n",
       "        vertical-align: middle;\n",
       "    }\n",
       "\n",
       "    .dataframe tbody tr th {\n",
       "        vertical-align: top;\n",
       "    }\n",
       "\n",
       "    .dataframe thead th {\n",
       "        text-align: right;\n",
       "    }\n",
       "</style>\n",
       "<table border=\"1\" class=\"dataframe\">\n",
       "  <thead>\n",
       "    <tr style=\"text-align: right;\">\n",
       "      <th></th>\n",
       "      <th>latitude</th>\n",
       "      <th>longitude</th>\n",
       "      <th>available_bikes</th>\n",
       "      <th>empty_slots</th>\n",
       "      <th>name</th>\n",
       "    </tr>\n",
       "  </thead>\n",
       "  <tbody>\n",
       "    <tr>\n",
       "      <th>0</th>\n",
       "      <td>25.729275</td>\n",
       "      <td>-80.241581</td>\n",
       "      <td>5</td>\n",
       "      <td>11</td>\n",
       "      <td>000605 - Virginia St &amp; Florida Ave</td>\n",
       "    </tr>\n",
       "    <tr>\n",
       "      <th>1</th>\n",
       "      <td>25.732522</td>\n",
       "      <td>-80.233244</td>\n",
       "      <td>7</td>\n",
       "      <td>9</td>\n",
       "      <td>000606 - S Bayshor Dr &amp; Aviation Ave</td>\n",
       "    </tr>\n",
       "    <tr>\n",
       "      <th>2</th>\n",
       "      <td>25.751100</td>\n",
       "      <td>-80.202641</td>\n",
       "      <td>5</td>\n",
       "      <td>9</td>\n",
       "      <td>000612 - SE Brickell Ave &amp; 25th Rd</td>\n",
       "    </tr>\n",
       "    <tr>\n",
       "      <th>3</th>\n",
       "      <td>25.760082</td>\n",
       "      <td>-80.196217</td>\n",
       "      <td>7</td>\n",
       "      <td>9</td>\n",
       "      <td>000616 - 150 SW 15th Road</td>\n",
       "    </tr>\n",
       "    <tr>\n",
       "      <th>4</th>\n",
       "      <td>25.761884</td>\n",
       "      <td>-80.193101</td>\n",
       "      <td>10</td>\n",
       "      <td>4</td>\n",
       "      <td>000617 - S Miami Ave &amp; 13th Street</td>\n",
       "    </tr>\n",
       "    <tr>\n",
       "      <th>...</th>\n",
       "      <td>...</td>\n",
       "      <td>...</td>\n",
       "      <td>...</td>\n",
       "      <td>...</td>\n",
       "      <td>...</td>\n",
       "    </tr>\n",
       "    <tr>\n",
       "      <th>159</th>\n",
       "      <td>25.785199</td>\n",
       "      <td>-80.140549</td>\n",
       "      <td>0</td>\n",
       "      <td>15</td>\n",
       "      <td>000145 - 14th &amp; Alton</td>\n",
       "    </tr>\n",
       "    <tr>\n",
       "      <th>160</th>\n",
       "      <td>25.797583</td>\n",
       "      <td>-80.132518</td>\n",
       "      <td>3</td>\n",
       "      <td>13</td>\n",
       "      <td>000199 - Washington Ave &amp; Dade Blvd</td>\n",
       "    </tr>\n",
       "    <tr>\n",
       "      <th>161</th>\n",
       "      <td>25.776130</td>\n",
       "      <td>-80.194220</td>\n",
       "      <td>6</td>\n",
       "      <td>0</td>\n",
       "      <td>000674 - 48 NW 2nd Street</td>\n",
       "    </tr>\n",
       "    <tr>\n",
       "      <th>162</th>\n",
       "      <td>25.776620</td>\n",
       "      <td>-80.141910</td>\n",
       "      <td>15</td>\n",
       "      <td>9</td>\n",
       "      <td>000130 - West Ave 6-7 St (Canopy Park)</td>\n",
       "    </tr>\n",
       "    <tr>\n",
       "      <th>163</th>\n",
       "      <td>25.792605</td>\n",
       "      <td>-80.193664</td>\n",
       "      <td>0</td>\n",
       "      <td>0</td>\n",
       "      <td>000002 - DEMO - Deco Bike Warehouse</td>\n",
       "    </tr>\n",
       "  </tbody>\n",
       "</table>\n",
       "<p>164 rows × 5 columns</p>\n",
       "</div>"
      ],
      "text/plain": [
       "      latitude  longitude  available_bikes  empty_slots  \\\n",
       "0    25.729275 -80.241581                5           11   \n",
       "1    25.732522 -80.233244                7            9   \n",
       "2    25.751100 -80.202641                5            9   \n",
       "3    25.760082 -80.196217                7            9   \n",
       "4    25.761884 -80.193101               10            4   \n",
       "..         ...        ...              ...          ...   \n",
       "159  25.785199 -80.140549                0           15   \n",
       "160  25.797583 -80.132518                3           13   \n",
       "161  25.776130 -80.194220                6            0   \n",
       "162  25.776620 -80.141910               15            9   \n",
       "163  25.792605 -80.193664                0            0   \n",
       "\n",
       "                                       name  \n",
       "0        000605 - Virginia St & Florida Ave  \n",
       "1      000606 - S Bayshor Dr & Aviation Ave  \n",
       "2        000612 - SE Brickell Ave & 25th Rd  \n",
       "3                 000616 - 150 SW 15th Road  \n",
       "4        000617 - S Miami Ave & 13th Street  \n",
       "..                                      ...  \n",
       "159                   000145 - 14th & Alton  \n",
       "160     000199 - Washington Ave & Dade Blvd  \n",
       "161               000674 - 48 NW 2nd Street  \n",
       "162  000130 - West Ave 6-7 St (Canopy Park)  \n",
       "163     000002 - DEMO - Deco Bike Warehouse  \n",
       "\n",
       "[164 rows x 5 columns]"
      ]
     },
     "execution_count": 62,
     "metadata": {},
     "output_type": "execute_result"
    }
   ],
   "source": [
    "bike_stations"
   ]
  },
  {
   "cell_type": "code",
   "execution_count": 94,
   "metadata": {},
   "outputs": [],
   "source": [
    "test = yelp_restaurants(latitude=25.792605,longitude=-80.241581)                                        ##Ignore Testing"
   ]
  },
  {
   "cell_type": "code",
   "execution_count": 95,
   "metadata": {},
   "outputs": [],
   "source": [
    "ratings = [entry['rating'] for entry in test['businesses']]                                             ##Ignore Testing"
   ]
  },
  {
   "cell_type": "code",
   "execution_count": 96,
   "metadata": {},
   "outputs": [],
   "source": [
    "distance = [entry['distance'] for entry in test['businesses']]                                          ##Ignore Testing"
   ]
  },
  {
   "cell_type": "code",
   "execution_count": 97,
   "metadata": {},
   "outputs": [],
   "source": [
    "names = [entry['name'] for entry in test['businesses']]                                                 ##Ignore Testing"
   ]
  },
  {
   "cell_type": "code",
   "execution_count": 112,
   "metadata": {},
   "outputs": [],
   "source": [
    "station= [1 for entry in test['businesses']]                                                            ##Ignore Testing"
   ]
  },
  {
   "cell_type": "code",
   "execution_count": 106,
   "metadata": {},
   "outputs": [],
   "source": [
    "parsed_dict = {'name':names,'ratings':ratings,'distance':distance}                                      ##Ignore Testing"
   ]
  },
  {
   "cell_type": "code",
   "execution_count": 108,
   "metadata": {},
   "outputs": [
    {
     "name": "stdout",
     "output_type": "stream",
     "text": [
      "20\n",
      "20\n",
      "20\n"
     ]
    }
   ],
   "source": [
    "print(len(ratings))                                                                                     ##Ignore Testing\n",
    "print(len(distance))\n",
    "print(len(names))"
   ]
  },
  {
   "cell_type": "code",
   "execution_count": 110,
   "metadata": {},
   "outputs": [
    {
     "data": {
      "text/html": [
       "<div>\n",
       "<style scoped>\n",
       "    .dataframe tbody tr th:only-of-type {\n",
       "        vertical-align: middle;\n",
       "    }\n",
       "\n",
       "    .dataframe tbody tr th {\n",
       "        vertical-align: top;\n",
       "    }\n",
       "\n",
       "    .dataframe thead th {\n",
       "        text-align: right;\n",
       "    }\n",
       "</style>\n",
       "<table border=\"1\" class=\"dataframe\">\n",
       "  <thead>\n",
       "    <tr style=\"text-align: right;\">\n",
       "      <th></th>\n",
       "      <th>name</th>\n",
       "      <th>ratings</th>\n",
       "      <th>distance</th>\n",
       "    </tr>\n",
       "  </thead>\n",
       "  <tbody>\n",
       "    <tr>\n",
       "      <th>0</th>\n",
       "      <td>Miami Skate Academy</td>\n",
       "      <td>5.0</td>\n",
       "      <td>1054.502627</td>\n",
       "    </tr>\n",
       "    <tr>\n",
       "      <th>1</th>\n",
       "      <td>Tacos El Paso</td>\n",
       "      <td>4.5</td>\n",
       "      <td>1120.433021</td>\n",
       "    </tr>\n",
       "    <tr>\n",
       "      <th>2</th>\n",
       "      <td>El Zapo Enamorado</td>\n",
       "      <td>5.0</td>\n",
       "      <td>306.645646</td>\n",
       "    </tr>\n",
       "    <tr>\n",
       "      <th>3</th>\n",
       "      <td>La Gran Parada</td>\n",
       "      <td>4.5</td>\n",
       "      <td>715.013628</td>\n",
       "    </tr>\n",
       "    <tr>\n",
       "      <th>4</th>\n",
       "      <td>Galiano Cafeteria</td>\n",
       "      <td>5.0</td>\n",
       "      <td>795.186362</td>\n",
       "    </tr>\n",
       "    <tr>\n",
       "      <th>5</th>\n",
       "      <td>Crazy Shark</td>\n",
       "      <td>5.0</td>\n",
       "      <td>679.744906</td>\n",
       "    </tr>\n",
       "    <tr>\n",
       "      <th>6</th>\n",
       "      <td>SusiLicious Bakeshop</td>\n",
       "      <td>5.0</td>\n",
       "      <td>660.659445</td>\n",
       "    </tr>\n",
       "    <tr>\n",
       "      <th>7</th>\n",
       "      <td>El Palacio De Los Jugos</td>\n",
       "      <td>4.0</td>\n",
       "      <td>308.678178</td>\n",
       "    </tr>\n",
       "    <tr>\n",
       "      <th>8</th>\n",
       "      <td>Curtis Park</td>\n",
       "      <td>4.0</td>\n",
       "      <td>475.851684</td>\n",
       "    </tr>\n",
       "    <tr>\n",
       "      <th>9</th>\n",
       "      <td>Taco Crazy</td>\n",
       "      <td>4.5</td>\n",
       "      <td>507.450776</td>\n",
       "    </tr>\n",
       "    <tr>\n",
       "      <th>10</th>\n",
       "      <td>Doggi's Arepa Bar</td>\n",
       "      <td>3.5</td>\n",
       "      <td>951.932519</td>\n",
       "    </tr>\n",
       "    <tr>\n",
       "      <th>11</th>\n",
       "      <td>Em's Restaurant</td>\n",
       "      <td>3.5</td>\n",
       "      <td>432.490418</td>\n",
       "    </tr>\n",
       "    <tr>\n",
       "      <th>12</th>\n",
       "      <td>Chicken House #3</td>\n",
       "      <td>3.5</td>\n",
       "      <td>1129.069809</td>\n",
       "    </tr>\n",
       "    <tr>\n",
       "      <th>13</th>\n",
       "      <td>Ranchito Mi Peru</td>\n",
       "      <td>3.5</td>\n",
       "      <td>948.525933</td>\n",
       "    </tr>\n",
       "    <tr>\n",
       "      <th>14</th>\n",
       "      <td>Porto Fino Bakery</td>\n",
       "      <td>3.0</td>\n",
       "      <td>535.608261</td>\n",
       "    </tr>\n",
       "    <tr>\n",
       "      <th>15</th>\n",
       "      <td>Plaza Seafood Market &amp; Wholesale</td>\n",
       "      <td>3.5</td>\n",
       "      <td>598.699313</td>\n",
       "    </tr>\n",
       "    <tr>\n",
       "      <th>16</th>\n",
       "      <td>Fern Isle Park</td>\n",
       "      <td>4.0</td>\n",
       "      <td>1332.325370</td>\n",
       "    </tr>\n",
       "    <tr>\n",
       "      <th>17</th>\n",
       "      <td>Los Laureles Del Rio</td>\n",
       "      <td>4.0</td>\n",
       "      <td>841.549801</td>\n",
       "    </tr>\n",
       "    <tr>\n",
       "      <th>18</th>\n",
       "      <td>Nueva San Salvador II</td>\n",
       "      <td>3.0</td>\n",
       "      <td>383.578303</td>\n",
       "    </tr>\n",
       "    <tr>\n",
       "      <th>19</th>\n",
       "      <td>Circus Eats</td>\n",
       "      <td>3.0</td>\n",
       "      <td>972.474554</td>\n",
       "    </tr>\n",
       "  </tbody>\n",
       "</table>\n",
       "</div>"
      ],
      "text/plain": [
       "                                name  ratings     distance\n",
       "0                Miami Skate Academy      5.0  1054.502627\n",
       "1                      Tacos El Paso      4.5  1120.433021\n",
       "2                  El Zapo Enamorado      5.0   306.645646\n",
       "3                     La Gran Parada      4.5   715.013628\n",
       "4                  Galiano Cafeteria      5.0   795.186362\n",
       "5                        Crazy Shark      5.0   679.744906\n",
       "6               SusiLicious Bakeshop      5.0   660.659445\n",
       "7            El Palacio De Los Jugos      4.0   308.678178\n",
       "8                        Curtis Park      4.0   475.851684\n",
       "9                         Taco Crazy      4.5   507.450776\n",
       "10                 Doggi's Arepa Bar      3.5   951.932519\n",
       "11                   Em's Restaurant      3.5   432.490418\n",
       "12                  Chicken House #3      3.5  1129.069809\n",
       "13                  Ranchito Mi Peru      3.5   948.525933\n",
       "14                 Porto Fino Bakery      3.0   535.608261\n",
       "15  Plaza Seafood Market & Wholesale      3.5   598.699313\n",
       "16                    Fern Isle Park      4.0  1332.325370\n",
       "17              Los Laureles Del Rio      4.0   841.549801\n",
       "18             Nueva San Salvador II      3.0   383.578303\n",
       "19                       Circus Eats      3.0   972.474554"
      ]
     },
     "execution_count": 110,
     "metadata": {},
     "output_type": "execute_result"
    }
   ],
   "source": [
    "pd.DataFrame(parsed_dict, columns = ['name','ratings','distance'])                                      ##Ignore Testing"
   ]
  },
  {
   "cell_type": "markdown",
   "metadata": {},
   "source": [
    "Parse through the response to get the POI (such as restaurants, bars, etc) details you want (ratings, name, location, etc)"
   ]
  },
  {
   "cell_type": "code",
   "execution_count": 143,
   "metadata": {},
   "outputs": [],
   "source": [
    "count = 0\n",
    "yelp_index = []\n",
    "yelp_rating=[]\n",
    "yelp_distance = []\n",
    "yelp_name = []                                                                                        ##empty lists/counter\n",
    "for _, row in bike_stations.iterrows():                                                               ##loop through bikestations, will use row lat/long for API function inputs  \n",
    "    result = yelp_restaurants(row['latitude'],row['longitude'])                                       ##temporarily store API function result(json)                        \n",
    "    yelp_rating.append([entry['rating'] for entry in result['businesses']])                           ##extract ratings from each individual result (restaurant/bar)\n",
    "    yelp_distance.append([entry['distance'] for entry in result['businesses']])                       ##extract distances from each individual result (restaurant/bar)  \n",
    "    yelp_name.append([entry['name'] for entry in result['businesses']])                               ##extract names from each individual result (restaurant/bar)  \n",
    "    yelp_index.append([count for entry in result['businesses']])                                      ##associate an index value for each iteration which will directly correspond to the bike station   \n",
    "    count = count + 1                                                                                 ##update counter   "
   ]
  },
  {
   "cell_type": "code",
   "execution_count": 142,
   "metadata": {},
   "outputs": [
    {
     "data": {
      "text/html": [
       "<div>\n",
       "<style scoped>\n",
       "    .dataframe tbody tr th:only-of-type {\n",
       "        vertical-align: middle;\n",
       "    }\n",
       "\n",
       "    .dataframe tbody tr th {\n",
       "        vertical-align: top;\n",
       "    }\n",
       "\n",
       "    .dataframe thead th {\n",
       "        text-align: right;\n",
       "    }\n",
       "</style>\n",
       "<table border=\"1\" class=\"dataframe\">\n",
       "  <thead>\n",
       "    <tr style=\"text-align: right;\">\n",
       "      <th></th>\n",
       "      <th>latitude</th>\n",
       "      <th>longitude</th>\n",
       "      <th>available_bikes</th>\n",
       "      <th>empty_slots</th>\n",
       "      <th>name</th>\n",
       "    </tr>\n",
       "  </thead>\n",
       "  <tbody>\n",
       "    <tr>\n",
       "      <th>0</th>\n",
       "      <td>25.729275</td>\n",
       "      <td>-80.241581</td>\n",
       "      <td>5</td>\n",
       "      <td>11</td>\n",
       "      <td>000605 - Virginia St &amp; Florida Ave</td>\n",
       "    </tr>\n",
       "    <tr>\n",
       "      <th>1</th>\n",
       "      <td>25.732522</td>\n",
       "      <td>-80.233244</td>\n",
       "      <td>7</td>\n",
       "      <td>9</td>\n",
       "      <td>000606 - S Bayshor Dr &amp; Aviation Ave</td>\n",
       "    </tr>\n",
       "    <tr>\n",
       "      <th>2</th>\n",
       "      <td>25.751100</td>\n",
       "      <td>-80.202641</td>\n",
       "      <td>5</td>\n",
       "      <td>9</td>\n",
       "      <td>000612 - SE Brickell Ave &amp; 25th Rd</td>\n",
       "    </tr>\n",
       "    <tr>\n",
       "      <th>3</th>\n",
       "      <td>25.760082</td>\n",
       "      <td>-80.196217</td>\n",
       "      <td>7</td>\n",
       "      <td>9</td>\n",
       "      <td>000616 - 150 SW 15th Road</td>\n",
       "    </tr>\n",
       "    <tr>\n",
       "      <th>4</th>\n",
       "      <td>25.761884</td>\n",
       "      <td>-80.193101</td>\n",
       "      <td>10</td>\n",
       "      <td>4</td>\n",
       "      <td>000617 - S Miami Ave &amp; 13th Street</td>\n",
       "    </tr>\n",
       "    <tr>\n",
       "      <th>...</th>\n",
       "      <td>...</td>\n",
       "      <td>...</td>\n",
       "      <td>...</td>\n",
       "      <td>...</td>\n",
       "      <td>...</td>\n",
       "    </tr>\n",
       "    <tr>\n",
       "      <th>159</th>\n",
       "      <td>25.785199</td>\n",
       "      <td>-80.140549</td>\n",
       "      <td>0</td>\n",
       "      <td>15</td>\n",
       "      <td>000145 - 14th &amp; Alton</td>\n",
       "    </tr>\n",
       "    <tr>\n",
       "      <th>160</th>\n",
       "      <td>25.797583</td>\n",
       "      <td>-80.132518</td>\n",
       "      <td>3</td>\n",
       "      <td>13</td>\n",
       "      <td>000199 - Washington Ave &amp; Dade Blvd</td>\n",
       "    </tr>\n",
       "    <tr>\n",
       "      <th>161</th>\n",
       "      <td>25.776130</td>\n",
       "      <td>-80.194220</td>\n",
       "      <td>6</td>\n",
       "      <td>0</td>\n",
       "      <td>000674 - 48 NW 2nd Street</td>\n",
       "    </tr>\n",
       "    <tr>\n",
       "      <th>162</th>\n",
       "      <td>25.776620</td>\n",
       "      <td>-80.141910</td>\n",
       "      <td>15</td>\n",
       "      <td>9</td>\n",
       "      <td>000130 - West Ave 6-7 St (Canopy Park)</td>\n",
       "    </tr>\n",
       "    <tr>\n",
       "      <th>163</th>\n",
       "      <td>25.792605</td>\n",
       "      <td>-80.193664</td>\n",
       "      <td>0</td>\n",
       "      <td>0</td>\n",
       "      <td>000002 - DEMO - Deco Bike Warehouse</td>\n",
       "    </tr>\n",
       "  </tbody>\n",
       "</table>\n",
       "<p>164 rows × 5 columns</p>\n",
       "</div>"
      ],
      "text/plain": [
       "      latitude  longitude  available_bikes  empty_slots  \\\n",
       "0    25.729275 -80.241581                5           11   \n",
       "1    25.732522 -80.233244                7            9   \n",
       "2    25.751100 -80.202641                5            9   \n",
       "3    25.760082 -80.196217                7            9   \n",
       "4    25.761884 -80.193101               10            4   \n",
       "..         ...        ...              ...          ...   \n",
       "159  25.785199 -80.140549                0           15   \n",
       "160  25.797583 -80.132518                3           13   \n",
       "161  25.776130 -80.194220                6            0   \n",
       "162  25.776620 -80.141910               15            9   \n",
       "163  25.792605 -80.193664                0            0   \n",
       "\n",
       "                                       name  \n",
       "0        000605 - Virginia St & Florida Ave  \n",
       "1      000606 - S Bayshor Dr & Aviation Ave  \n",
       "2        000612 - SE Brickell Ave & 25th Rd  \n",
       "3                 000616 - 150 SW 15th Road  \n",
       "4        000617 - S Miami Ave & 13th Street  \n",
       "..                                      ...  \n",
       "159                   000145 - 14th & Alton  \n",
       "160     000199 - Washington Ave & Dade Blvd  \n",
       "161               000674 - 48 NW 2nd Street  \n",
       "162  000130 - West Ave 6-7 St (Canopy Park)  \n",
       "163     000002 - DEMO - Deco Bike Warehouse  \n",
       "\n",
       "[164 rows x 5 columns]"
      ]
     },
     "execution_count": 142,
     "metadata": {},
     "output_type": "execute_result"
    }
   ],
   "source": [
    "bike_stations"
   ]
  },
  {
   "cell_type": "code",
   "execution_count": 163,
   "metadata": {},
   "outputs": [
    {
     "data": {
      "text/plain": [
       "164"
      ]
     },
     "execution_count": 163,
     "metadata": {},
     "output_type": "execute_result"
    }
   ],
   "source": [
    "len(yelp_index)"
   ]
  },
  {
   "cell_type": "code",
   "execution_count": 170,
   "metadata": {},
   "outputs": [
    {
     "name": "stdout",
     "output_type": "stream",
     "text": [
      "3277\n"
     ]
    }
   ],
   "source": [
    "yelp_index_adj = []\n",
    "for value in yelp_index:\n",
    "    for v in value:\n",
    "        yelp_index_adj.append(v)\n",
    "print(len(yelp_index_adj))"
   ]
  },
  {
   "cell_type": "code",
   "execution_count": 171,
   "metadata": {},
   "outputs": [
    {
     "name": "stdout",
     "output_type": "stream",
     "text": [
      "3277\n"
     ]
    }
   ],
   "source": [
    "yelp_rating_adj = []\n",
    "for value in yelp_rating:\n",
    "    for v in value:\n",
    "        yelp_rating_adj.append(v)\n",
    "print(len(yelp_rating_adj))\n"
   ]
  },
  {
   "cell_type": "code",
   "execution_count": 173,
   "metadata": {},
   "outputs": [
    {
     "name": "stdout",
     "output_type": "stream",
     "text": [
      "3277\n"
     ]
    }
   ],
   "source": [
    "yelp_distance_adj = []\n",
    "for value in yelp_distance:\n",
    "    for v in value:\n",
    "        yelp_distance_adj.append(v)\n",
    "print(len(yelp_distance_adj))"
   ]
  },
  {
   "cell_type": "code",
   "execution_count": 174,
   "metadata": {},
   "outputs": [
    {
     "name": "stdout",
     "output_type": "stream",
     "text": [
      "3277\n"
     ]
    }
   ],
   "source": [
    "yelp_name_adj = []\n",
    "for value in yelp_name:\n",
    "    for v in value:\n",
    "        yelp_name_adj.append(v)\n",
    "print(len(yelp_name_adj))"
   ]
  },
  {
   "cell_type": "markdown",
   "metadata": {},
   "source": [
    "Put your parsed results into a DataFrame"
   ]
  },
  {
   "cell_type": "code",
   "execution_count": 175,
   "metadata": {},
   "outputs": [],
   "source": [
    "yelp_dict = {'yelp_index':yelp_index_adj,'yelp_name':yelp_name_adj,'yelp_rating':yelp_rating_adj,'yelp_distance':yelp_distance_adj}"
   ]
  },
  {
   "cell_type": "code",
   "execution_count": 178,
   "metadata": {},
   "outputs": [],
   "source": [
    "yelp_df=pd.DataFrame(yelp_dict, columns=['yelp_index','yelp_name','yelp_rating','yelp_distance'])"
   ]
  },
  {
   "cell_type": "code",
   "execution_count": 179,
   "metadata": {},
   "outputs": [
    {
     "data": {
      "text/html": [
       "<div>\n",
       "<style scoped>\n",
       "    .dataframe tbody tr th:only-of-type {\n",
       "        vertical-align: middle;\n",
       "    }\n",
       "\n",
       "    .dataframe tbody tr th {\n",
       "        vertical-align: top;\n",
       "    }\n",
       "\n",
       "    .dataframe thead th {\n",
       "        text-align: right;\n",
       "    }\n",
       "</style>\n",
       "<table border=\"1\" class=\"dataframe\">\n",
       "  <thead>\n",
       "    <tr style=\"text-align: right;\">\n",
       "      <th></th>\n",
       "      <th>yelp_index</th>\n",
       "      <th>yelp_name</th>\n",
       "      <th>yelp_rating</th>\n",
       "      <th>yelp_distance</th>\n",
       "    </tr>\n",
       "  </thead>\n",
       "  <tbody>\n",
       "    <tr>\n",
       "      <th>0</th>\n",
       "      <td>0</td>\n",
       "      <td>Farm To Fork Meals</td>\n",
       "      <td>5.0</td>\n",
       "      <td>9661.266080</td>\n",
       "    </tr>\n",
       "    <tr>\n",
       "      <th>1</th>\n",
       "      <td>0</td>\n",
       "      <td>Dan the Cookie Man</td>\n",
       "      <td>5.0</td>\n",
       "      <td>45344.050064</td>\n",
       "    </tr>\n",
       "    <tr>\n",
       "      <th>2</th>\n",
       "      <td>0</td>\n",
       "      <td>Almotti</td>\n",
       "      <td>5.0</td>\n",
       "      <td>20707.902271</td>\n",
       "    </tr>\n",
       "    <tr>\n",
       "      <th>3</th>\n",
       "      <td>0</td>\n",
       "      <td>Fye Stars</td>\n",
       "      <td>5.0</td>\n",
       "      <td>32224.968396</td>\n",
       "    </tr>\n",
       "    <tr>\n",
       "      <th>4</th>\n",
       "      <td>0</td>\n",
       "      <td>Fookem's Fabulous Key Lime Pie</td>\n",
       "      <td>5.0</td>\n",
       "      <td>173.754030</td>\n",
       "    </tr>\n",
       "    <tr>\n",
       "      <th>...</th>\n",
       "      <td>...</td>\n",
       "      <td>...</td>\n",
       "      <td>...</td>\n",
       "      <td>...</td>\n",
       "    </tr>\n",
       "    <tr>\n",
       "      <th>3272</th>\n",
       "      <td>163</td>\n",
       "      <td>Suite Habana Cafe</td>\n",
       "      <td>5.0</td>\n",
       "      <td>1044.067644</td>\n",
       "    </tr>\n",
       "    <tr>\n",
       "      <th>3273</th>\n",
       "      <td>163</td>\n",
       "      <td>George's Shawarma</td>\n",
       "      <td>5.0</td>\n",
       "      <td>16224.569428</td>\n",
       "    </tr>\n",
       "    <tr>\n",
       "      <th>3274</th>\n",
       "      <td>163</td>\n",
       "      <td>Museum of Graffiti</td>\n",
       "      <td>5.0</td>\n",
       "      <td>1201.923769</td>\n",
       "    </tr>\n",
       "    <tr>\n",
       "      <th>3275</th>\n",
       "      <td>163</td>\n",
       "      <td>Jenny with the pot</td>\n",
       "      <td>5.0</td>\n",
       "      <td>873.541580</td>\n",
       "    </tr>\n",
       "    <tr>\n",
       "      <th>3276</th>\n",
       "      <td>163</td>\n",
       "      <td>Howling Wolf Bar &amp; Eatery</td>\n",
       "      <td>5.0</td>\n",
       "      <td>371.815630</td>\n",
       "    </tr>\n",
       "  </tbody>\n",
       "</table>\n",
       "<p>3277 rows × 4 columns</p>\n",
       "</div>"
      ],
      "text/plain": [
       "      yelp_index                       yelp_name  yelp_rating  yelp_distance\n",
       "0              0              Farm To Fork Meals          5.0    9661.266080\n",
       "1              0              Dan the Cookie Man          5.0   45344.050064\n",
       "2              0                         Almotti          5.0   20707.902271\n",
       "3              0                       Fye Stars          5.0   32224.968396\n",
       "4              0  Fookem's Fabulous Key Lime Pie          5.0     173.754030\n",
       "...          ...                             ...          ...            ...\n",
       "3272         163               Suite Habana Cafe          5.0    1044.067644\n",
       "3273         163               George's Shawarma          5.0   16224.569428\n",
       "3274         163              Museum of Graffiti          5.0    1201.923769\n",
       "3275         163              Jenny with the pot          5.0     873.541580\n",
       "3276         163       Howling Wolf Bar & Eatery          5.0     371.815630\n",
       "\n",
       "[3277 rows x 4 columns]"
      ]
     },
     "execution_count": 179,
     "metadata": {},
     "output_type": "execute_result"
    }
   ],
   "source": [
    "yelp_df"
   ]
  },
  {
   "cell_type": "code",
   "execution_count": 180,
   "metadata": {},
   "outputs": [],
   "source": [
    "yelp_df.to_csv('yelp_df.csv',index = False)"
   ]
  },
  {
   "cell_type": "code",
   "execution_count": null,
   "metadata": {},
   "outputs": [],
   "source": []
  },
  {
   "cell_type": "code",
   "execution_count": null,
   "metadata": {},
   "outputs": [],
   "source": []
  },
  {
   "cell_type": "markdown",
   "metadata": {},
   "source": []
  },
  {
   "cell_type": "code",
   "execution_count": null,
   "metadata": {},
   "outputs": [],
   "source": []
  },
  {
   "cell_type": "markdown",
   "metadata": {},
   "source": []
  },
  {
   "cell_type": "markdown",
   "metadata": {},
   "source": [
    "# Comparing Results"
   ]
  },
  {
   "cell_type": "markdown",
   "metadata": {},
   "source": [
    "Which API provided you with more complete data? Provide an explanation. "
   ]
  },
  {
   "cell_type": "markdown",
   "metadata": {},
   "source": [
    "The yelp API provided more complete data because if the FourSquare API could not find the requested POI type within the radius, an empty list would be provided. As a result, additional code had to be used to replace empty values. However when the YELP API encountered the same issues, the radius parameter description confirmed that their API will provide data that may exceed the radius in order to avoid empty lists.   \n"
   ]
  },
  {
   "cell_type": "markdown",
   "metadata": {},
   "source": [
    "Get the top 10 restaurants according to their rating"
   ]
  },
  {
   "cell_type": "code",
   "execution_count": 189,
   "metadata": {},
   "outputs": [
    {
     "data": {
      "text/html": [
       "<div>\n",
       "<style scoped>\n",
       "    .dataframe tbody tr th:only-of-type {\n",
       "        vertical-align: middle;\n",
       "    }\n",
       "\n",
       "    .dataframe tbody tr th {\n",
       "        vertical-align: top;\n",
       "    }\n",
       "\n",
       "    .dataframe thead th {\n",
       "        text-align: right;\n",
       "    }\n",
       "</style>\n",
       "<table border=\"1\" class=\"dataframe\">\n",
       "  <thead>\n",
       "    <tr style=\"text-align: right;\">\n",
       "      <th></th>\n",
       "      <th>yelp_index</th>\n",
       "      <th>yelp_name</th>\n",
       "      <th>yelp_rating</th>\n",
       "      <th>yelp_distance</th>\n",
       "    </tr>\n",
       "  </thead>\n",
       "  <tbody>\n",
       "    <tr>\n",
       "      <th>3202</th>\n",
       "      <td>160</td>\n",
       "      <td>Rum Room</td>\n",
       "      <td>5.0</td>\n",
       "      <td>20.431553</td>\n",
       "    </tr>\n",
       "    <tr>\n",
       "      <th>3236</th>\n",
       "      <td>161</td>\n",
       "      <td>City Cigar Lounge</td>\n",
       "      <td>5.0</td>\n",
       "      <td>28.004793</td>\n",
       "    </tr>\n",
       "    <tr>\n",
       "      <th>616</th>\n",
       "      <td>30</td>\n",
       "      <td>Cielito Artisan Pops</td>\n",
       "      <td>5.0</td>\n",
       "      <td>30.871912</td>\n",
       "    </tr>\n",
       "    <tr>\n",
       "      <th>3048</th>\n",
       "      <td>152</td>\n",
       "      <td>Organic Food Kings</td>\n",
       "      <td>5.0</td>\n",
       "      <td>34.965540</td>\n",
       "    </tr>\n",
       "    <tr>\n",
       "      <th>2905</th>\n",
       "      <td>145</td>\n",
       "      <td>Acai Brazil Kosher - Miami Beach</td>\n",
       "      <td>5.0</td>\n",
       "      <td>37.402422</td>\n",
       "    </tr>\n",
       "    <tr>\n",
       "      <th>1343</th>\n",
       "      <td>67</td>\n",
       "      <td>Zeybek Mediterranean Cuisine</td>\n",
       "      <td>5.0</td>\n",
       "      <td>47.614079</td>\n",
       "    </tr>\n",
       "    <tr>\n",
       "      <th>205</th>\n",
       "      <td>10</td>\n",
       "      <td>Naranja Pina Gelato</td>\n",
       "      <td>5.0</td>\n",
       "      <td>52.253323</td>\n",
       "    </tr>\n",
       "    <tr>\n",
       "      <th>3097</th>\n",
       "      <td>155</td>\n",
       "      <td>Farm To Fork Meals</td>\n",
       "      <td>5.0</td>\n",
       "      <td>54.398672</td>\n",
       "    </tr>\n",
       "    <tr>\n",
       "      <th>2820</th>\n",
       "      <td>141</td>\n",
       "      <td>Silverlake Bistro</td>\n",
       "      <td>5.0</td>\n",
       "      <td>55.380937</td>\n",
       "    </tr>\n",
       "    <tr>\n",
       "      <th>388</th>\n",
       "      <td>19</td>\n",
       "      <td>Madda’s Place</td>\n",
       "      <td>5.0</td>\n",
       "      <td>56.229642</td>\n",
       "    </tr>\n",
       "  </tbody>\n",
       "</table>\n",
       "</div>"
      ],
      "text/plain": [
       "      yelp_index                         yelp_name  yelp_rating  yelp_distance\n",
       "3202         160                          Rum Room          5.0      20.431553\n",
       "3236         161                 City Cigar Lounge          5.0      28.004793\n",
       "616           30              Cielito Artisan Pops          5.0      30.871912\n",
       "3048         152                Organic Food Kings          5.0      34.965540\n",
       "2905         145  Acai Brazil Kosher - Miami Beach          5.0      37.402422\n",
       "1343          67      Zeybek Mediterranean Cuisine          5.0      47.614079\n",
       "205           10               Naranja Pina Gelato          5.0      52.253323\n",
       "3097         155                Farm To Fork Meals          5.0      54.398672\n",
       "2820         141                 Silverlake Bistro          5.0      55.380937\n",
       "388           19                     Madda’s Place          5.0      56.229642"
      ]
     },
     "execution_count": 189,
     "metadata": {},
     "output_type": "execute_result"
    }
   ],
   "source": [
    "yelp_df.sort_values(['yelp_rating','yelp_distance'],ascending=[False,True]).head(10)            ##sort by highest rating, then lowest distance, top 10."
   ]
  },
  {
   "cell_type": "code",
   "execution_count": null,
   "metadata": {},
   "outputs": [],
   "source": []
  }
 ],
 "metadata": {
  "kernelspec": {
   "display_name": "Python 3",
   "language": "python",
   "name": "python3"
  },
  "language_info": {
   "codemirror_mode": {
    "name": "ipython",
    "version": 3
   },
   "file_extension": ".py",
   "mimetype": "text/x-python",
   "name": "python",
   "nbconvert_exporter": "python",
   "pygments_lexer": "ipython3",
   "version": "3.11.5"
  }
 },
 "nbformat": 4,
 "nbformat_minor": 4
}
